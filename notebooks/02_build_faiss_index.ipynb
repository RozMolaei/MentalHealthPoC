{
 "cells": [
  {
   "cell_type": "code",
   "execution_count": null,
   "id": "cfe77ddc",
   "metadata": {},
   "outputs": [
    {
     "name": "stdout",
     "output_type": "stream",
     "text": [
      "Loading conversation data...\n",
      "Loaded 3508 conversations.\n",
      "Preparing documents for vector store...\n",
      "Created 3508 documents.\n",
      "Initializing embedding model (this may take a moment)...\n"
     ]
    },
    {
     "name": "stderr",
     "output_type": "stream",
     "text": [
      "Xet Storage is enabled for this repo, but the 'hf_xet' package is not installed. Falling back to regular HTTP download. For better performance, install the package with: `pip install huggingface_hub[hf_xet]` or `pip install hf_xet`\n"
     ]
    },
    {
     "data": {
      "application/vnd.jupyter.widget-view+json": {
       "model_id": "05c9f8cff8e0413dbf31be1c76805aea",
       "version_major": 2,
       "version_minor": 0
      },
      "text/plain": [
       "model.safetensors:   0%|          | 0.00/90.9M [00:00<?, ?B/s]"
      ]
     },
     "metadata": {},
     "output_type": "display_data"
    },
    {
     "name": "stderr",
     "output_type": "stream",
     "text": [
      "c:\\Users\\rxm177130\\Downloads\\mental‑health‑counselor‑assistant\\.venv\\Lib\\site-packages\\huggingface_hub\\file_download.py:143: UserWarning: `huggingface_hub` cache-system uses symlinks by default to efficiently store duplicated files but your machine does not support them in C:\\Users\\rxm177130\\.cache\\huggingface\\hub\\models--sentence-transformers--all-MiniLM-L6-v2. Caching files will still work but in a degraded version that might require more space on your disk. This warning can be disabled by setting the `HF_HUB_DISABLE_SYMLINKS_WARNING` environment variable. For more details, see https://huggingface.co/docs/huggingface_hub/how-to-cache#limitations.\n",
      "To support symlinks on Windows, you either need to activate Developer Mode or to run Python as an administrator. In order to activate developer mode, see this article: https://docs.microsoft.com/en-us/windows/apps/get-started/enable-your-device-for-development\n",
      "  warnings.warn(message)\n"
     ]
    },
    {
     "data": {
      "application/vnd.jupyter.widget-view+json": {
       "model_id": "4bf99094bf8b465e87c26c3989599559",
       "version_major": 2,
       "version_minor": 0
      },
      "text/plain": [
       "tokenizer_config.json:   0%|          | 0.00/350 [00:00<?, ?B/s]"
      ]
     },
     "metadata": {},
     "output_type": "display_data"
    },
    {
     "data": {
      "application/vnd.jupyter.widget-view+json": {
       "model_id": "453d1082490e48c2b48bdb5c2faff253",
       "version_major": 2,
       "version_minor": 0
      },
      "text/plain": [
       "vocab.txt: 0.00B [00:00, ?B/s]"
      ]
     },
     "metadata": {},
     "output_type": "display_data"
    },
    {
     "data": {
      "application/vnd.jupyter.widget-view+json": {
       "model_id": "05e3ac06fba9478a9008de9b69f65171",
       "version_major": 2,
       "version_minor": 0
      },
      "text/plain": [
       "tokenizer.json: 0.00B [00:00, ?B/s]"
      ]
     },
     "metadata": {},
     "output_type": "display_data"
    },
    {
     "data": {
      "application/vnd.jupyter.widget-view+json": {
       "model_id": "a1ae5618664c4a2184040351cacf318f",
       "version_major": 2,
       "version_minor": 0
      },
      "text/plain": [
       "special_tokens_map.json:   0%|          | 0.00/112 [00:00<?, ?B/s]"
      ]
     },
     "metadata": {},
     "output_type": "display_data"
    },
    {
     "data": {
      "application/vnd.jupyter.widget-view+json": {
       "model_id": "e920ecfa35294c99877925aef1394161",
       "version_major": 2,
       "version_minor": 0
      },
      "text/plain": [
       "config.json:   0%|          | 0.00/190 [00:00<?, ?B/s]"
      ]
     },
     "metadata": {},
     "output_type": "display_data"
    },
    {
     "name": "stdout",
     "output_type": "stream",
     "text": [
      "Creating FAISS vector store from documents...\n"
     ]
    },
    {
     "name": "stderr",
     "output_type": "stream",
     "text": [
      "c:\\Users\\rxm177130\\Downloads\\mental‑health‑counselor‑assistant\\.venv\\Lib\\site-packages\\torch\\nn\\modules\\module.py:1762: FutureWarning: `encoder_attention_mask` is deprecated and will be removed in version 4.55.0 for `BertSdpaSelfAttention.forward`.\n",
      "  return forward_call(*args, **kwargs)\n"
     ]
    },
    {
     "name": "stdout",
     "output_type": "stream",
     "text": [
      "Saving FAISS index to ../data/faiss_index...\n",
      "\n",
      "🎉 SUCCESS! Your FAISS vector store is ready.\n",
      "You can now run your Streamlit application.\n"
     ]
    }
   ],
   "source": [
    "import pandas as pd\n",
    "from langchain.embeddings import HuggingFaceEmbeddings\n",
    "from langchain.vectorstores import FAISS\n",
    "from langchain.docstore.document import Document\n",
    "import os\n",
    "\n",
    "# --- 1. Load the Data ---\n",
    "print(\"Loading conversation data...\")\n",
    "df = pd.read_csv('../data/raw/mental_health_conversations.csv')\n",
    "df.dropna(subset=['Context', 'Response'], inplace=True)\n",
    "print(f\"Loaded {len(df)} conversations.\")\n",
    "\n",
    "# --- 2. Prepare Documents for LangChain ---\n",
    "# We need to structure our data into LangChain's \"Document\" format.\n",
    "# The main text will be the counselor's 'Response', \n",
    "# and we'll store the patient's 'Context' as metadata.\n",
    "print(\"Preparing documents for vector store...\")\n",
    "documents = []\n",
    "for _, row in df.iterrows():\n",
    "    # The 'page_content' is what gets embedded and searched\n",
    "    page_content = row['Response']\n",
    "    \n",
    "    # The 'metadata' holds extra info we want to retrieve later\n",
    "    metadata = {\n",
    "        'patient_context': row['Context'],\n",
    "        'response_length': len(row['Response'])\n",
    "    }\n",
    "    doc = Document(page_content=page_content, metadata=metadata)\n",
    "    documents.append(doc)\n",
    "\n",
    "print(f\"Created {len(documents)} documents.\")\n",
    "\n",
    "# --- 3. Create Embeddings and FAISS Vector Store ---\n",
    "print(\"Initializing embedding model (this may take a moment)...\")\n",
    "# Use the same model as in your Streamlit app\n",
    "embedding_model = HuggingFaceEmbeddings(\n",
    "    model_name=\"sentence-transformers/all-MiniLM-L6-v2\",\n",
    "    model_kwargs={'device': 'cpu'}\n",
    ")\n",
    "\n",
    "print(\"Creating FAISS vector store from documents...\")\n",
    "# This will convert all documents to vectors and build the index\n",
    "vector_store = FAISS.from_documents(documents, embedding_model)\n",
    "\n",
    "# --- 4. Save the Vector Store ---\n",
    "output_path = \"../data/faiss_index\"\n",
    "if not os.path.exists(output_path):\n",
    "    os.makedirs(output_path)\n",
    "\n",
    "print(f\"Saving FAISS index to {output_path}...\")\n",
    "vector_store.save_local(output_path)\n",
    "\n",
    "print(\"\\n🎉 SUCCESS! Your FAISS vector store is ready.\")\n",
    "print(\"You can now run your Streamlit application.\")"
   ]
  }
 ],
 "metadata": {
  "kernelspec": {
   "display_name": "Mental Health Project",
   "language": "python",
   "name": "mhca"
  },
  "language_info": {
   "codemirror_mode": {
    "name": "ipython",
    "version": 3
   },
   "file_extension": ".py",
   "mimetype": "text/x-python",
   "name": "python",
   "nbconvert_exporter": "python",
   "pygments_lexer": "ipython3",
   "version": "3.11.5"
  }
 },
 "nbformat": 4,
 "nbformat_minor": 5
}
